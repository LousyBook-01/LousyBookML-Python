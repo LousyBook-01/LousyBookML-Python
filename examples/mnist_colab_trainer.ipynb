{
 "cells": [
  {
   "cell_type": "markdown",
   "metadata": {},
   "source": [
    "# MNIST Trainer in Google Colab\n",
    "\n",
    "This notebook will:\n",
    "1. Clone your GitHub repository\n",
    "2. Install the required packages\n",
    "3. Train the model with GPU acceleration\n",
    "4. Save and download the trained weights"
   ]
  },
  {
   "cell_type": "code",
   "execution_count": null,
   "metadata": {},
   "source": [
    "# Check if we have GPU access\n",
    "!nvidia-smi"
   ]
  },
  {
   "cell_type": "code",
   "execution_count": null,
   "metadata": {},
   "source": [
    "# Clone your repository\n",
    "!git clone https://github.com/LousyBook01/LousyBookML-Python.git\n",
    "%cd LousyBookML-Python"
   ]
  },
  {
   "cell_type": "code",
   "execution_count": null,
   "metadata": {},
   "source": [
    "# Install requirements\n",
    "!pip install -e ."
   ]
  },
  {
   "cell_type": "code",
   "execution_count": null,
   "metadata": {},
   "source": [
    "# Import required libraries\n",
    "import numpy as np\n",
    "import matplotlib.pyplot as plt\n",
    "from LousyBookML.neural_network.model import NeuralNetwork\n",
    "import pickle\n",
    "from google.colab import files"
   ]
  },
  {
   "cell_type": "code",
   "execution_count": null,
   "metadata": {},
   "source": [
    "# Run the training script (with larger model)\n",
    "!python examples/nn_mnist_example.py"
   ]
  },
  {
   "cell_type": "code",
   "execution_count": null,
   "metadata": {},
   "source": [
    "# Download the trained weights and scaler\n",
    "files.download('examples/model_weights.pkl')\n",
    "files.download('examples/scaler.pkl')"
   ]
  }
 ],
 "metadata": {
  "accelerator": "GPU",
  "colab": {
   "name": "MNIST Trainer",
   "provenance": []
  },
  "kernelspec": {
   "display_name": "Python 3",
   "name": "python3"
  },
  "language_info": {
   "name": "python"
  }
 },
 "nbformat": 4,
 "nbformat_minor": 0
}
